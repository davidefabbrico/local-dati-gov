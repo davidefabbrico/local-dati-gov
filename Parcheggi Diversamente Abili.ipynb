{
 "cells": [
  {
   "cell_type": "markdown",
   "metadata": {},
   "source": [
    "# Parcheggi Diversamente Abili, Comune di Prato, Aggiornamento del 25/12/2020."
   ]
  },
  {
   "cell_type": "markdown",
   "metadata": {},
   "source": [
    "Fonte dati: http://odn.comune.prato.it/dataset/"
   ]
  },
  {
   "cell_type": "markdown",
   "metadata": {},
   "source": [
    "#### Non lavoro per il Comune di Prato."
   ]
  },
  {
   "cell_type": "code",
   "execution_count": 3,
   "metadata": {},
   "outputs": [],
   "source": [
    "import requests\n",
    "import csv\n",
    "import numpy as np\n",
    "import pandas as pd\n",
    "import matplotlib.pyplot as plt\n",
    "import networkx as nx\n",
    "pd.set_option('mode.chained_assignment', None)"
   ]
  },
  {
   "cell_type": "code",
   "execution_count": 5,
   "metadata": {},
   "outputs": [
    {
     "data": {
      "text/html": [
       "<div>\n",
       "<style scoped>\n",
       "    .dataframe tbody tr th:only-of-type {\n",
       "        vertical-align: middle;\n",
       "    }\n",
       "\n",
       "    .dataframe tbody tr th {\n",
       "        vertical-align: top;\n",
       "    }\n",
       "\n",
       "    .dataframe thead th {\n",
       "        text-align: right;\n",
       "    }\n",
       "</style>\n",
       "<table border=\"1\" class=\"dataframe\">\n",
       "  <thead>\n",
       "    <tr style=\"text-align: right;\">\n",
       "      <th></th>\n",
       "      <th>CODICE</th>\n",
       "      <th>TIPO</th>\n",
       "      <th>TOPONIMO</th>\n",
       "      <th>NOTE</th>\n",
       "      <th>AUT_N</th>\n",
       "      <th>ORD_ISTIT</th>\n",
       "      <th>TIPOLOGIA</th>\n",
       "      <th>LATITUDINE</th>\n",
       "      <th>LONGITUDIN</th>\n",
       "    </tr>\n",
       "  </thead>\n",
       "  <tbody>\n",
       "    <tr>\n",
       "      <th>0</th>\n",
       "      <td>41</td>\n",
       "      <td>Posto invalido riservato</td>\n",
       "      <td>V.A.Benini, 17</td>\n",
       "      <td>NaN</td>\n",
       "      <td>12085</td>\n",
       "      <td>640/2019</td>\n",
       "      <td>Riservato</td>\n",
       "      <td>43.864750</td>\n",
       "      <td>11.084993</td>\n",
       "    </tr>\n",
       "    <tr>\n",
       "      <th>1</th>\n",
       "      <td>40</td>\n",
       "      <td>Posto invalido generico</td>\n",
       "      <td>V.M.Cipriani, 7/H</td>\n",
       "      <td>NaN</td>\n",
       "      <td>-</td>\n",
       "      <td>424/2019</td>\n",
       "      <td>Generico</td>\n",
       "      <td>43.871885</td>\n",
       "      <td>11.083193</td>\n",
       "    </tr>\n",
       "    <tr>\n",
       "      <th>2</th>\n",
       "      <td>41</td>\n",
       "      <td>Posto invalido riservato</td>\n",
       "      <td>V.Oglio, 16 - 18</td>\n",
       "      <td>NaN</td>\n",
       "      <td>12036</td>\n",
       "      <td>638/2019</td>\n",
       "      <td>Riservato</td>\n",
       "      <td>43.892812</td>\n",
       "      <td>11.088110</td>\n",
       "    </tr>\n",
       "    <tr>\n",
       "      <th>3</th>\n",
       "      <td>41</td>\n",
       "      <td>Posto invalido riservato</td>\n",
       "      <td>V.Gobbi, 47/3 - 47/4</td>\n",
       "      <td>NaN</td>\n",
       "      <td>11994</td>\n",
       "      <td>277/2019</td>\n",
       "      <td>Riservato</td>\n",
       "      <td>43.889343</td>\n",
       "      <td>11.082410</td>\n",
       "    </tr>\n",
       "    <tr>\n",
       "      <th>4</th>\n",
       "      <td>41</td>\n",
       "      <td>Posto invalido riservato</td>\n",
       "      <td>V.Fonti, 43</td>\n",
       "      <td>Integrazione</td>\n",
       "      <td>12726</td>\n",
       "      <td>4497/2018-3651/2019</td>\n",
       "      <td>Riservato</td>\n",
       "      <td>43.867505</td>\n",
       "      <td>11.108696</td>\n",
       "    </tr>\n",
       "    <tr>\n",
       "      <th>...</th>\n",
       "      <td>...</td>\n",
       "      <td>...</td>\n",
       "      <td>...</td>\n",
       "      <td>...</td>\n",
       "      <td>...</td>\n",
       "      <td>...</td>\n",
       "      <td>...</td>\n",
       "      <td>...</td>\n",
       "      <td>...</td>\n",
       "    </tr>\n",
       "    <tr>\n",
       "      <th>638</th>\n",
       "      <td>41</td>\n",
       "      <td>Posto invalido riservato</td>\n",
       "      <td>V.Case Nuove, 8</td>\n",
       "      <td>Cambiato contrassegno da 4568 a 8530</td>\n",
       "      <td>8530</td>\n",
       "      <td>2653/2020</td>\n",
       "      <td>Riservato</td>\n",
       "      <td>43.885076</td>\n",
       "      <td>11.042793</td>\n",
       "    </tr>\n",
       "    <tr>\n",
       "      <th>639</th>\n",
       "      <td>41</td>\n",
       "      <td>Posto invalido riservato</td>\n",
       "      <td>V.E.Caruso, 8</td>\n",
       "      <td>NaN</td>\n",
       "      <td>12150</td>\n",
       "      <td>2697/2020</td>\n",
       "      <td>Riservato</td>\n",
       "      <td>43.869089</td>\n",
       "      <td>11.100570</td>\n",
       "    </tr>\n",
       "    <tr>\n",
       "      <th>640</th>\n",
       "      <td>41</td>\n",
       "      <td>Posto invalido riservato</td>\n",
       "      <td>V.V.Bellini, 31</td>\n",
       "      <td>NaN</td>\n",
       "      <td>12816</td>\n",
       "      <td>2698/2020</td>\n",
       "      <td>Riservato</td>\n",
       "      <td>43.887463</td>\n",
       "      <td>11.076130</td>\n",
       "    </tr>\n",
       "    <tr>\n",
       "      <th>641</th>\n",
       "      <td>41</td>\n",
       "      <td>Posto invalido riservato</td>\n",
       "      <td>V.L.Cadorna, 6</td>\n",
       "      <td>trasformazione di stallo generico in riservato</td>\n",
       "      <td>11270</td>\n",
       "      <td>2699/2020</td>\n",
       "      <td>Riservato</td>\n",
       "      <td>43.883554</td>\n",
       "      <td>11.107156</td>\n",
       "    </tr>\n",
       "    <tr>\n",
       "      <th>642</th>\n",
       "      <td>41</td>\n",
       "      <td>Posto invalido riservato</td>\n",
       "      <td>P.za Partigiani, 29/B</td>\n",
       "      <td>NaN</td>\n",
       "      <td>12937</td>\n",
       "      <td>2701/2020</td>\n",
       "      <td>Riservato</td>\n",
       "      <td>43.922660</td>\n",
       "      <td>11.091025</td>\n",
       "    </tr>\n",
       "  </tbody>\n",
       "</table>\n",
       "<p>643 rows × 9 columns</p>\n",
       "</div>"
      ],
      "text/plain": [
       "     CODICE                      TIPO               TOPONIMO  \\\n",
       "0        41  Posto invalido riservato         V.A.Benini, 17   \n",
       "1        40   Posto invalido generico      V.M.Cipriani, 7/H   \n",
       "2        41  Posto invalido riservato       V.Oglio, 16 - 18   \n",
       "3        41  Posto invalido riservato   V.Gobbi, 47/3 - 47/4   \n",
       "4        41  Posto invalido riservato            V.Fonti, 43   \n",
       "..      ...                       ...                    ...   \n",
       "638      41  Posto invalido riservato        V.Case Nuove, 8   \n",
       "639      41  Posto invalido riservato          V.E.Caruso, 8   \n",
       "640      41  Posto invalido riservato        V.V.Bellini, 31   \n",
       "641      41  Posto invalido riservato         V.L.Cadorna, 6   \n",
       "642      41  Posto invalido riservato  P.za Partigiani, 29/B   \n",
       "\n",
       "                                               NOTE  AUT_N  \\\n",
       "0                                               NaN  12085   \n",
       "1                                               NaN      -   \n",
       "2                                               NaN  12036   \n",
       "3                                               NaN  11994   \n",
       "4                                      Integrazione  12726   \n",
       "..                                              ...    ...   \n",
       "638            Cambiato contrassegno da 4568 a 8530   8530   \n",
       "639                                             NaN  12150   \n",
       "640                                             NaN  12816   \n",
       "641  trasformazione di stallo generico in riservato  11270   \n",
       "642                                             NaN  12937   \n",
       "\n",
       "               ORD_ISTIT  TIPOLOGIA  LATITUDINE  LONGITUDIN  \n",
       "0               640/2019  Riservato   43.864750   11.084993  \n",
       "1               424/2019   Generico   43.871885   11.083193  \n",
       "2               638/2019  Riservato   43.892812   11.088110  \n",
       "3               277/2019  Riservato   43.889343   11.082410  \n",
       "4    4497/2018-3651/2019  Riservato   43.867505   11.108696  \n",
       "..                   ...        ...         ...         ...  \n",
       "638            2653/2020  Riservato   43.885076   11.042793  \n",
       "639            2697/2020  Riservato   43.869089   11.100570  \n",
       "640            2698/2020  Riservato   43.887463   11.076130  \n",
       "641            2699/2020  Riservato   43.883554   11.107156  \n",
       "642            2701/2020  Riservato   43.922660   11.091025  \n",
       "\n",
       "[643 rows x 9 columns]"
      ]
     },
     "execution_count": 5,
     "metadata": {},
     "output_type": "execute_result"
    }
   ],
   "source": [
    "### Verifica richiesta dell'API ###\n",
    "df = pd.read_csv('http://odn.comune.prato.it/dataset/634c11db-1216-4f6a-81eb-7010a1868f2f/resource/db7c5080-4c63-49a2-991e-b054d6210ac1/download/stallisostadivabili.csv', sep = \";\") \n",
    "df"
   ]
  },
  {
   "cell_type": "markdown",
   "metadata": {},
   "source": [
    "# Quanti posti per disabili ci sono nel Comune di Prato?"
   ]
  },
  {
   "cell_type": "code",
   "execution_count": 6,
   "metadata": {},
   "outputs": [
    {
     "data": {
      "text/plain": [
       "643"
      ]
     },
     "execution_count": 6,
     "metadata": {},
     "output_type": "execute_result"
    }
   ],
   "source": [
    "len(df)"
   ]
  },
  {
   "cell_type": "markdown",
   "metadata": {},
   "source": [
    "# Quanti generici e quanti Riservati?"
   ]
  },
  {
   "cell_type": "code",
   "execution_count": 11,
   "metadata": {},
   "outputs": [
    {
     "data": {
      "image/png": "[encoded data removed]",
      "text/plain": [
       "<Figure size 720x720 with 1 Axes>"
      ]
     },
     "metadata": {},
     "output_type": "display_data"
    }
   ],
   "source": [
    "df_generici = df[df[\"TIPOLOGIA\"] == \"Generico\"]\n",
    "generici = len(df_generici)\n",
    "df_riservati = df[df[\"TIPOLOGIA\"] == \"Riservato\"]\n",
    "riservati = len(df_riservati)\n",
    "labels = [\"Generici\", \"Riservati\"]\n",
    "sizes = [generici, riservati]\n",
    "#colors\n",
    "colors = ['#99ff99','#ffcc99']\n",
    "#explsion\n",
    "explode = (0.05,0.05)\n",
    "\n",
    "plt.figure(figsize = (10,10))\n",
    "plt.pie(sizes, colors = colors, labels=labels, autopct='%1.1f%%', startangle=90, pctdistance=0.85,\n",
    "        explode = explode, textprops={'size': 15, \"family\": \"monospace\"},\n",
    "        wedgeprops={\"edgecolor\":\"k\",'linewidth': 1, 'antialiased': True})\n",
    "\n",
    "centre_circle = plt.Circle((0,0),0.70,fc='white')\n",
    "fig = plt.gcf()\n",
    "fig.gca().add_artist(centre_circle)\n",
    "plt.tight_layout()\n",
    "plt.show()"
   ]
  },
  {
   "cell_type": "code",
   "execution_count": 16,
   "metadata": {},
   "outputs": [
    {
     "data": {
      "text/plain": [
       "4                                        Integrazione\n",
       "23                                           2 stalli\n",
       "24                                           2 stalli\n",
       "28                                           4 stalli\n",
       "29                                           4 stalli\n",
       "                            ...                      \n",
       "604                                          2 stalli\n",
       "605                                          2 stalli\n",
       "620                           da Riservato a Generico\n",
       "638              Cambiato contrassegno da 4568 a 8530\n",
       "641    trasformazione di stallo generico in riservato\n",
       "Name: NOTE, Length: 90, dtype: object"
      ]
     },
     "execution_count": 16,
     "metadata": {},
     "output_type": "execute_result"
    }
   ],
   "source": [
    "df_dropna = df.dropna()\n",
    "df_dropna['NOTE']"
   ]
  },
  {
   "cell_type": "code",
   "execution_count": null,
   "metadata": {},
   "outputs": [],
   "source": []
  }
 ],
 "metadata": {
  "kernelspec": {
   "display_name": "Python 3",
   "language": "python",
   "name": "python3"
  },
  "language_info": {
   "codemirror_mode": {
    "name": "ipython",
    "version": 3
   },
   "file_extension": ".py",
   "mimetype": "text/x-python",
   "name": "python",
   "nbconvert_exporter": "python",
   "pygments_lexer": "ipython3",
   "version": "3.8.5"
  }
 },
 "nbformat": 4,
 "nbformat_minor": 4
}
